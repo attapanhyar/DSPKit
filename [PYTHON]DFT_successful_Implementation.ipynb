{
  "nbformat": 4,
  "nbformat_minor": 0,
  "metadata": {
    "colab": {
      "name": "DFT_successful_Implementation",
      "provenance": [],
      "collapsed_sections": [],
      "include_colab_link": true
    },
    "kernelspec": {
      "name": "python3",
      "display_name": "Python 3"
    }
  },
  "cells": [
    {
      "cell_type": "markdown",
      "metadata": {
        "id": "view-in-github",
        "colab_type": "text"
      },
      "source": [
        "<a href=\"https://colab.research.google.com/github/attapanhyar/DSPKit/blob/master/DFT_successful_Implementation.ipynb\" target=\"_parent\"><img src=\"https://colab.research.google.com/assets/colab-badge.svg\" alt=\"Open In Colab\"/></a>"
      ]
    },
    {
      "cell_type": "markdown",
      "metadata": {
        "id": "OysBY4CtrVfG",
        "colab_type": "text"
      },
      "source": [
        "<br>Disclaimer: This tutorial is designed in Digital Signal Processing LAB for 18-batch of Telecommunication Engineering, in Quaid E Awam University Nawabshah. Any error in the code may be rectified, if requested.</br>\n",
        "<br>Discrete Fourier Transform (DFT) is given by </br>\n",
        "$X(K)=\\sum_{n=0}^{N-1}x(n)e^{\\frac{-j2\\pi Kn}{N}}$ \n",
        "<br>Inverse Fourier Transform (IDFT) given by </br> \n",
        "$x[n] = \\frac{1}{N}\\sum_{K=0}^{N-1}X(K)e^{\\frac{j2\\pi Kn}{N}}$"
      ]
    },
    {
      "cell_type": "code",
      "metadata": {
        "id": "n5MUmu3ZqsHL",
        "colab_type": "code",
        "colab": {}
      },
      "source": [
        "import math\n",
        "import cmath\n",
        "#Definition of Discrete Fourier Transfomr\n",
        "def dft(x):\n",
        "    dftseq =[]\n",
        "    leng = len(x)\n",
        "    sum = complex(0,0)\n",
        "    for i in range(leng):\n",
        "        sum = 0\n",
        "        for n in range(leng):\n",
        "            sum += x[n]*cmath.exp(-1j*2*math.pi*i*n/leng)\n",
        "        sum = round(sum.real,2)+round(sum.imag,2)*1j\n",
        "        dftseq.append(sum)\n",
        "    return dftseq \n",
        "#Definition of Inverse Fourier Transform\n",
        "def idft(x):\n",
        "    idftseq =[]\n",
        "    leng = len(x)\n",
        "    sum = complex(0,0)\n",
        "    for i in range(leng):\n",
        "        sum = 0\n",
        "        for n in range(leng):\n",
        "            sum += x[n]*cmath.exp(1j*2*math.pi*i*n/leng)\n",
        "        sum = (1/leng)*sum\n",
        "        sum = round(sum.real,2)+round(sum.imag,2)\n",
        "        idftseq.append(sum)\n",
        "    return idftseq \n"
      ],
      "execution_count": 0,
      "outputs": []
    },
    {
      "cell_type": "markdown",
      "metadata": {
        "id": "DCPAl6oEsuGf",
        "colab_type": "text"
      },
      "source": [
        "We are Done with creating functions for Discrete Fourier Transform. Lets examine, if they are really working fine"
      ]
    },
    {
      "cell_type": "code",
      "metadata": {
        "id": "67RrD0SBq-mS",
        "colab_type": "code",
        "outputId": "67cfb4e5-eee0-4cef-d2fa-5cf6b7d704a0",
        "colab": {
          "base_uri": "https://localhost:8080/",
          "height": 34
        }
      },
      "source": [
        "#Now lets first compute DFT of a sequence\n",
        "array = [0,1,2,3]\n",
        "calc_dft = dft(array)          \n",
        "print(calc_dft)\n"
      ],
      "execution_count": 6,
      "outputs": [
        {
          "output_type": "stream",
          "text": [
            "[(6+0j), (-2+2j), (-2+0j), (-2-2j)]\n"
          ],
          "name": "stdout"
        }
      ]
    },
    {
      "cell_type": "markdown",
      "metadata": {
        "id": "uICRmZfFsca8",
        "colab_type": "text"
      },
      "source": [
        ""
      ]
    },
    {
      "cell_type": "markdown",
      "metadata": {
        "id": "q9vIkbckrhR1",
        "colab_type": "text"
      },
      "source": [
        "Hurrah,, we Did it!!!\n",
        "But wait, Does this answer can be converted back to the origional sequence?\n",
        "Luckily yes!!!\n",
        "We can do that by using Inverse Fourier Transform\n",
        "$\\frac{1}{N}\\sum_{K=0}^{N-1}X(K)e^{\\frac{j2\\pi Kn}{N}}$"
      ]
    },
    {
      "cell_type": "code",
      "metadata": {
        "id": "Jidb9j-ErHwY",
        "colab_type": "code",
        "outputId": "309453d8-470c-40e4-cb6f-b6cff0569778",
        "colab": {
          "base_uri": "https://localhost:8080/",
          "height": 34
        }
      },
      "source": [
        "#Let's cross validate the answer\n",
        "x =[complex(6,0),complex(-2,2),complex(-2),complex(-2,-2)]\n",
        "idft_calc = idft(x)\n",
        "print (idft_calc)"
      ],
      "execution_count": 7,
      "outputs": [
        {
          "output_type": "stream",
          "text": [
            "[0.0, 1.0, 2.0, 3.0]\n"
          ],
          "name": "stdout"
        }
      ]
    },
    {
      "cell_type": "code",
      "metadata": {
        "id": "cC3ywD0ErNDG",
        "colab_type": "code",
        "colab": {}
      },
      "source": [
        ""
      ],
      "execution_count": 0,
      "outputs": []
    },
    {
      "cell_type": "markdown",
      "metadata": {
        "id": "0UK1w2erukAm",
        "colab_type": "text"
      },
      "source": [
        "<br>Hence, We can conlude that, DFT is used to find spectrum of discrete time signal. The spectrum result in periodic signal. Moreover, we also reconstruct the origional signal using IDFT forumala given above.</br>\n",
        "Thanks"
      ]
    },
    {
      "cell_type": "code",
      "metadata": {
        "id": "vacJNbo8u90K",
        "colab_type": "code",
        "colab": {}
      },
      "source": [
        ""
      ],
      "execution_count": 0,
      "outputs": []
    }
  ]
}
